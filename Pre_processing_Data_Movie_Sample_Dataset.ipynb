{
  "nbformat": 4,
  "nbformat_minor": 0,
  "metadata": {
    "colab": {
      "provenance": []
    },
    "kernelspec": {
      "name": "python3",
      "display_name": "Python 3"
    },
    "language_info": {
      "name": "python"
    }
  },
  "cells": [
    {
      "cell_type": "markdown",
      "source": [
        "**PRE-PROCESSING DATA MOVIE SAMPLE DATASET**\n",
        "\n",
        "**PUTRI INDO NAGARI / 4111422072**"
      ],
      "metadata": {
        "id": "r4n24YlzgDsu"
      }
    },
    {
      "cell_type": "markdown",
      "source": [
        "**Importing Data:**"
      ],
      "metadata": {
        "id": "QO7p8JkNMc3O"
      }
    },
    {
      "cell_type": "code",
      "execution_count": 5,
      "metadata": {
        "colab": {
          "base_uri": "https://localhost:8080/"
        },
        "id": "pcLIjwxfM9xy",
        "outputId": "a600d93f-9e38-4d3d-e439-91db5fcb1d0c"
      },
      "outputs": [
        {
          "output_type": "stream",
          "name": "stdout",
          "text": [
            "               color         director_name  duration        gross  \\\n",
            "0              Color       Martin Scorsese       240  116866727.0   \n",
            "1              Color           Shane Black       195  408992272.0   \n",
            "2             color      Quentin Tarantino       187   54116191.0   \n",
            "3              Color      Kenneth Lonergan       186      46495.0   \n",
            "4              Color         Peter Jackson       186  258355354.0   \n",
            "5                NaN                   NaN       183  330249062.0   \n",
            "6              Color         Peter Jackson       -50  303001229.0   \n",
            "7              Color           Edward Hall       180          NaN   \n",
            "8              Color           Joss Whedon       173  623279547.0   \n",
            "9              Color           Joss Whedon       173  623279547.0   \n",
            "10               NaN            Tom Tykwer       172   27098580.0   \n",
            "11             Color                  Null       158  102515793.0   \n",
            "12             Color   Christopher Spencer       170   59696176.0   \n",
            "13             Color     Christopher Nolan       169  187991439.0   \n",
            "14             Color          F. Gary Gray       167  161029270.0   \n",
            "15               NaN     Richard Linklater       165   25359200.0   \n",
            "16             Color     Quentin Tarantino       580  162804648.0   \n",
            "17             Color           Michael Bay       165  245428137.0   \n",
            "18               NaN     Christopher Nolan       164  448130642.0   \n",
            "19             Color         Peter Jackson       164  255108370.0   \n",
            "20             Color            Tom Hooper       158  148775460.0   \n",
            "21             Color            Tom Hooper       158  148775460.0   \n",
            "22             Color       Kathryn Bigelow       157   95720716.0   \n",
            "23             Color          Ridley Scott       156  105219735.0   \n",
            "24             Color                   NaN       156  183635922.0   \n",
            "25             Color           Michael Bay       154  352358779.0   \n",
            "26             Color      Denis Villeneuve       153   60962878.0   \n",
            "27             Color     Gnana Rajasekaran       153          NaN   \n",
            "28             Color             Marc Webb       153  262030663.0   \n",
            "29             Color                   Nan       151  228430993.0   \n",
            "30             Color          Ridley Scott       150   65007045.0   \n",
            "31             Color          Ridley Scott       150   65007045.0   \n",
            "32             Color                   NaN       150  182204440.0   \n",
            "33             Color            Mike Leigh       150    3958500.0   \n",
            "34             Color        Gore Verbinski       650   89289910.0   \n",
            "35             Color         David Fincher       149  167735396.0   \n",
            "36             Color          Bryan Singer       149  233914986.0   \n",
            "37             Color             Jay Oliva       148          NaN   \n",
            "38             Color     Christopher Nolan       148  292568851.0   \n",
            "39             Color  Paul Thomas Anderson       148    8093318.0   \n",
            "40             Color            Sam Mendes       148  200074175.0   \n",
            "41             Color                   NaN       147  407197282.0   \n",
            "42             Color  Michael Patrick King       146   95328937.0   \n",
            "43             Color           Tate Taylor       146  169705587.0   \n",
            "44             Color      Francis Lawrence       146  424645577.0   \n",
            "45   Black and White      Steven Spielberg       146   79883359.0   \n",
            "46             Color           Michael Bay       144   52822418.0   \n",
            "47             Color       Guillaume Canet       144      41229.0   \n",
            "48             Color  Paul Thomas Anderson       144   16377274.0   \n",
            "49             Color          Bryan Singer       144  154985087.0   \n",
            "\n",
            "                                      genres  \\\n",
            "0               Biography|Comedy|Crime|Drama   \n",
            "1                    Action|Adventure|Sci-Fi   \n",
            "2       Crime|Drama|Mystery|Thriller|Western   \n",
            "3                                      Drama   \n",
            "4                          Adventure|Fantasy   \n",
            "5                    Action|Adventure|Sci-Fi   \n",
            "6                          Adventure|Fantasy   \n",
            "7                              Drama|Romance   \n",
            "8                    Action|Adventure|Sci-Fi   \n",
            "9                    Action|Adventure|Sci-Fi   \n",
            "10                              Drama|Sci-Fi   \n",
            "11              Crime|Drama|Mystery|Thriller   \n",
            "12                                       NaN   \n",
            "13                    Adventure|Drama|Sci-Fi   \n",
            "14       Biography|Crime|Drama|History|Music   \n",
            "15                                     Drama   \n",
            "16                             Drama|Western   \n",
            "17                   Action|Adventure|Sci-Fi   \n",
            "18                           Action|Thriller   \n",
            "19                         Adventure|Fantasy   \n",
            "20                     Drama|Musical|Romance   \n",
            "21                     Drama|Musical|Romance   \n",
            "22                    Drama|History|Thriller   \n",
            "23            Action|Adventure|Drama|History   \n",
            "24          Adventure|Drama|Thriller|Western   \n",
            "25                   Action|Adventure|Sci-Fi   \n",
            "26              Crime|Drama|Mystery|Thriller   \n",
            "27                   Biography|Drama|History   \n",
            "28                  Action|Adventure|Fantasy   \n",
            "29                    Adventure|Drama|Sci-Fi   \n",
            "30                    Action|Adventure|Drama   \n",
            "31                    Action|Adventure|Drama   \n",
            "32               Biography|Drama|History|War   \n",
            "33                   Biography|Drama|History   \n",
            "34                  Action|Adventure|Western   \n",
            "35              Crime|Drama|Mystery|Thriller   \n",
            "36  Action|Adventure|Fantasy|Sci-Fi|Thriller   \n",
            "37    Action|Animation|Crime|Sci-Fi|Thriller   \n",
            "38          Action|Adventure|Sci-Fi|Thriller   \n",
            "39        Comedy|Crime|Drama|Mystery|Romance   \n",
            "40                 Action|Adventure|Thriller   \n",
            "41                   Action|Adventure|Sci-Fi   \n",
            "42                      Comedy|Drama|Romance   \n",
            "43                                     Drama   \n",
            "44                 Adventure|Sci-Fi|Thriller   \n",
            "45                                 Drama|War   \n",
            "46                 Action|Drama|Thriller|War   \n",
            "47                      Crime|Drama|Thriller   \n",
            "48                                     Drama   \n",
            "49                   Action|Adventure|Sci-Fi   \n",
            "\n",
            "                                  movie_title  title_year language  \\\n",
            "0                     The Wolf of Wall Street        2013  English   \n",
            "1                                  Iron Man 3        2013  English   \n",
            "2                           The Hateful Eight        2015  English   \n",
            "3                                    Margaret        2011  English   \n",
            "4         The Hobbit: The Desolation of Smaug        2013  English   \n",
            "5          Batman v Superman: Dawn of Justice         202  English   \n",
            "6           The Hobbit: An Unexpected Journey        2012  English   \n",
            "7                                    Restless        2012  English   \n",
            "8                                The Avengers        2012  English   \n",
            "9                                The Avengers        2012  English   \n",
            "10                                Cloud Atlas        2012  English   \n",
            "11            The Girl with the Dragon Tattoo        2011  English   \n",
            "12                                 Son of God        2014  English   \n",
            "13                               Interstellar        2014  English   \n",
            "14                     Straight Outta Compton        2015  English   \n",
            "15                                    Boyhood        2014  English   \n",
            "16                           Django Unchained        2012  English   \n",
            "17            Transformers: Age of Extinction        2014  English   \n",
            "18                      The Dark Knight Rises        2012  English   \n",
            "19  The Hobbit: The Battle of the Five Armies        2014  English   \n",
            "20                             Les Misérables        2012  English   \n",
            "21                             Les Misérables        2012  English   \n",
            "22                           Zero Dark Thirty        2012  English   \n",
            "23                                 Robin Hood        2010  English   \n",
            "24                               The Revenant        2015  English   \n",
            "25             Transformers: Dark of the Moon        2011  English   \n",
            "26                                  Prisoners        2013  English   \n",
            "27                                  Ramanujan        2014  English   \n",
            "28                     The Amazing Spider-Man        2012  English   \n",
            "29                                The Martian        2015  English   \n",
            "30                     Exodus: Gods and Kings        2014  English   \n",
            "31                     Exodus: Gods and Kings        2014  English   \n",
            "32                                    Lincoln        2012  English   \n",
            "33                                 Mr. Turner        2014  English   \n",
            "34                            The Lone Ranger        2013  English   \n",
            "35                                  Gone Girl        2014  English   \n",
            "36                 X-Men: Days of Future Past        2014  English   \n",
            "37    Batman: The Dark Knight Returns, Part 2        2013  English   \n",
            "38                                  Inception        2010  English   \n",
            "39                              Inherent Vice        2014  English   \n",
            "40                                    Spectre        2015  English   \n",
            "41                 Captain America: Civil War        2016  English   \n",
            "42                         Sex and the City 2        2010  English   \n",
            "43                                   The Help        2011  English   \n",
            "44            The Hunger Games: Catching Fire        2013  English   \n",
            "45                                  War Horse        2011  English   \n",
            "46                                   13 Hours        2016  English   \n",
            "47                                 Blood Ties        2013  English   \n",
            "48                                 The Master        2012  English   \n",
            "49                          X-Men: Apocalypse        2016  English   \n",
            "\n",
            "          country       budget  imdb_score  \\\n",
            "0             USA  100000000.0         8.2   \n",
            "1             USA  200000000.0         7.2   \n",
            "2             USA   44000000.0         7.9   \n",
            "3             usa   14000000.0         6.5   \n",
            "4             USA  225000000.0         7.9   \n",
            "5             USA  250000000.0         6.9   \n",
            "6             USA  180000000.0         7.9   \n",
            "7              UK          NaN         7.2   \n",
            "8             USA  220000000.0         8.1   \n",
            "9             USA  220000000.0         8.1   \n",
            "10        Germany  102000000.0        -7.5   \n",
            "11            USA   90000000.0         7.8   \n",
            "12            USA   22000000.0         5.6   \n",
            "13            USA  165000000.0         8.6   \n",
            "14            USA   28000000.0         7.9   \n",
            "15            USA    4000000.0         8.0   \n",
            "16            USA  100000000.0         8.5   \n",
            "17            USA  210000000.0         5.7   \n",
            "18            USA  250000000.0         8.5   \n",
            "19    New Zealand  250000000.0         7.5   \n",
            "20            USA   61000000.0         7.6   \n",
            "21            USA   61000000.0         7.6   \n",
            "22            USA   40000000.0         7.4   \n",
            "23            USA  200000000.0         6.7   \n",
            "24            USA  135000000.0         8.1   \n",
            "25            USA  195000000.0         6.3   \n",
            "26            USA   46000000.0         8.1   \n",
            "27          India          NaN         7.0   \n",
            "28            USA  230000000.0         7.0   \n",
            "29            USA  108000000.0         8.1   \n",
            "30             UK  140000000.0         6.1   \n",
            "31             UK  140000000.0         6.1   \n",
            "32            USA   65000000.0         7.4   \n",
            "33             UK          NaN         6.8   \n",
            "34            USA  215000000.0         6.5   \n",
            "35            USA   61000000.0         8.1   \n",
            "36  United States  200000000.0         8.0   \n",
            "37            USA    3500000.0         8.4   \n",
            "38            USA  160000000.0         8.8   \n",
            "39            USA   20000000.0         6.7   \n",
            "40             UK  245000000.0         6.8   \n",
            "41            USA  250000000.0         8.2   \n",
            "42            USA  100000000.0         4.3   \n",
            "43            USA   25000000.0         8.1   \n",
            "44            USA  130000000.0         7.6   \n",
            "45            usa   66000000.0         7.2   \n",
            "46            USA   50000000.0         7.4   \n",
            "47         France   25500000.0         6.5   \n",
            "48            USA   32000000.0         7.1   \n",
            "49            USA  178000000.0         7.3   \n",
            "\n",
            "                                               actors  movie_facebook_likes  \n",
            "0   Leonardo DiCaprio,Matthew McConaughey,Jon Favreau                138000  \n",
            "1           Robert Downey Jr.,Jon Favreau,Don Cheadle                 95000  \n",
            "2           Craig Stark,Jennifer Jason Leigh,Zoë Bell                114000  \n",
            "3         Matt Damon,Kieran Culkin,John Gallagher Jr.                     0  \n",
            "4               Aidan Turner,Adam Brown,James Nesbitt                 83000  \n",
            "5            Henry Cavill,Lauren Cohan,Alan D. Purwin                197000  \n",
            "6               Aidan Turner,Adam Brown,James Nesbitt                166000  \n",
            "7       Rufus Sewell,Hayley Atwell,Charlotte Rampling                   434  \n",
            "8   Chris Hemsworth,Robert Downey Jr.,Scarlett Joh...                123000  \n",
            "9   Chris Hemsworth,Robert Downey Jr.,Scarlett Joh...                123000  \n",
            "10               Tom Hanks,Jim Sturgess,Jim Broadbent                124000  \n",
            "11        Robin Wright,Goran Visnjic,Joely Richardson                 54000  \n",
            "12           Roma Downey,Amber Rose Revah,Darwin Shaw                 15000  \n",
            "13    Matthew McConaughey,Anne Hathaway,Mackenzie Foy                349000  \n",
            "14        Aldis Hodge,Neil Brown Jr.,R. Marcos Taylor                 76000  \n",
            "15     Ellar Coltrane,Lorelei Linklater,Libby Villari                 92000  \n",
            "16     Leonardo DiCaprio,Christoph Waltz,Ato Essandoh                199000  \n",
            "17            Bingbing Li,Sophia Myles,Kelsey Grammer                 56000  \n",
            "18      Tom Hardy,Christian Bale,Joseph Gordon-Levitt                164000  \n",
            "19              Aidan Turner,Adam Brown,James Nesbitt                 65000  \n",
            "20          Hugh Jackman,Eddie Redmayne,Anne Hathaway                144000  \n",
            "21          Hugh Jackman,Eddie Redmayne,Anne Hathaway                144000  \n",
            "22      Jennifer Ehle,Harold Perrineau,Parker Sawyers                 39000  \n",
            "23                Mark Addy,William Hurt,Scott Grimes                 17000  \n",
            "24             Leonardo DiCaprio,Tom Hardy,Lukas Haas                190000  \n",
            "25          Glenn Morshower,Lester Speight,Kevin Dunn                 46000  \n",
            "26        Hugh Jackman,Jake Gyllenhaal,Dylan Minnette                 86000  \n",
            "27         Mani Bharathi,Michael Lieber,Kevin McGowan                    58  \n",
            "28             Emma Stone,Andrew Garfield,Chris Zylka                 56000  \n",
            "29             Matt Damon,Donald Glover,Benedict Wong                153000  \n",
            "30       Christian Bale,María Valverde,Ben Mendelsohn                 51000  \n",
            "31       Christian Bale,María Valverde,Ben Mendelsohn                 51000  \n",
            "32     Joseph Gordon-Levitt,Hal Holbrook,Bruce McGill                 71000  \n",
            "33            Lesley Manville,Ruth Sheen,Karl Johnson                     0  \n",
            "34              Johnny Depp,Ruth Wilson,Tom Wilkinson                 48000  \n",
            "35          Patrick Fugit,Sela Ward,Emily Ratajkowski                146000  \n",
            "36      Jennifer Lawrence,Peter Dinklage,Hugh Jackman                 82000  \n",
            "37           Michael Emerson,Mark Valley,Grey Griffin                  5000  \n",
            "38   Leonardo DiCaprio,Tom Hardy,Joseph Gordon-Levitt                175000  \n",
            "39  Martin Dew,Katherine Waterston,Serena Scott Th...                 18000  \n",
            "40      Christoph Waltz,Rory Kinnear,Stephanie Sigman                 85000  \n",
            "41   Robert Downey Jr.,Scarlett Johansson,Chris Evans                 72000  \n",
            "42             Chris Noth,Liza Minnelli,Kristin Davis                     0  \n",
            "43          Emma Stone,Bryce Dallas Howard,Mike Vogel                 75000  \n",
            "44  Jennifer Lawrence,Josh Hutcherson,Sandra Ellis...                 82000  \n",
            "45    Jeremy Irvine,Benedict Cumberbatch,Eddie Marsan                 28000  \n",
            "46     Toby Stephens,James Badge Dale,David Costabile                 44000  \n",
            "47                Mila Kunis,Lili Taylor,Billy Crudup                     0  \n",
            "48     Mike Howard,Jeffrey W. Jenkins,Bruce Goodchild                 27000  \n",
            "49  Jennifer Lawrence,Michael Fassbender,Tye Sheridan                 54000  \n"
          ]
        }
      ],
      "source": [
        "import pandas as pd\n",
        "\n",
        "df = pd.read_csv('/content/movie_sample_dataset.csv')\n",
        "print(df.head(50))"
      ]
    },
    {
      "cell_type": "code",
      "source": [
        "df.info()"
      ],
      "metadata": {
        "colab": {
          "base_uri": "https://localhost:8080/"
        },
        "id": "eYGaDhccOxve",
        "outputId": "85af56be-1966-4b96-95d6-d25402ee4e7d"
      },
      "execution_count": 6,
      "outputs": [
        {
          "output_type": "stream",
          "name": "stdout",
          "text": [
            "<class 'pandas.core.frame.DataFrame'>\n",
            "RangeIndex: 99 entries, 0 to 98\n",
            "Data columns (total 13 columns):\n",
            " #   Column                Non-Null Count  Dtype  \n",
            "---  ------                --------------  -----  \n",
            " 0   color                 88 non-null     object \n",
            " 1   director_name         88 non-null     object \n",
            " 2   duration              99 non-null     int64  \n",
            " 3   gross                 91 non-null     float64\n",
            " 4   genres                98 non-null     object \n",
            " 5   movie_title           99 non-null     object \n",
            " 6   title_year            99 non-null     int64  \n",
            " 7   language              99 non-null     object \n",
            " 8   country               99 non-null     object \n",
            " 9   budget                95 non-null     float64\n",
            " 10  imdb_score            99 non-null     float64\n",
            " 11  actors                99 non-null     object \n",
            " 12  movie_facebook_likes  99 non-null     int64  \n",
            "dtypes: float64(3), int64(3), object(7)\n",
            "memory usage: 10.2+ KB\n"
          ]
        }
      ]
    },
    {
      "cell_type": "markdown",
      "source": [
        "Dari informasi di atas, didapatkan bahwa dataset tersebut mempunyai 99 baris dan 13 kolom.\n",
        "\n",
        "Variabel yang ada pada dataset tersebut sebagai berikut:\n",
        "1. color: menunjukkan apakah film tersebut berwarna atau hitam putih\n",
        "2. director_name: nama sutradara film\n",
        "3. duration: nama durasi film dalam menit\n",
        "4. gross: pendapatan kotor yang diperoleh film di box office\n",
        "5. genres: genre atau jenis film, dipisahkan dengan tanda '|'\n",
        "6. movie_title: judul film\n",
        "7. title_year: tahun film tersebut dirilis\n",
        "8. language: bahasa utama yang digunakan dalam film\n",
        "9. country: negara tempat film tersebut diproduksi\n",
        "10. budget: anggaran produksi film\n",
        "11. imdb_score: penilaian film di IMDb dalam skala 1 sampai 10\n",
        "12. actors: nama beberapa aktor utama yang berperan dalam film\n",
        "13. movie_facebook_likes: jumlah suka (likes) pada halaman Facebook resmi film tersebut\n",
        "\n",
        "Dataset ini memuat berbagai informasi mengenai film. Setiap baris data merepresentasikan satu judul film, sedangkan kolom-kolomnya berisi atribut serta indikator yang terkait dengan film tersebut. Informasi yang disajikan mencakup aspek produksi seperti nama sutradara, anggaran biaya, dan negara asal produksi. Dataset ini juga memuat indikator penerimaan publik terhadap film. Hal tersebut tercermin melalui pendapatan kotor, skor penilaian pada IMDb, dan jumlah likes pada halaman resmi Facebook film tersebut."
      ],
      "metadata": {
        "id": "A1dbFinLM9s7"
      }
    },
    {
      "cell_type": "markdown",
      "source": [
        "Sintaks berikut bertujuan untuk mengecek nilai yang kosong (null) dan data yang ganda (duplicate values)."
      ],
      "metadata": {
        "id": "1M-T-5aOQbTa"
      }
    },
    {
      "cell_type": "code",
      "source": [
        "import numpy as np\n",
        "\n",
        "# ganti \"Null\" with NaN\n",
        "df.replace(\"Null\", np.nan, inplace = True)\n",
        "df.replace(\"N/A\", np.nan, inplace=True)\n",
        "df.replace(\"NaN\", np.nan, inplace=True)\n",
        "# Cek missing value\n",
        "print(df.isnull().sum())"
      ],
      "metadata": {
        "colab": {
          "base_uri": "https://localhost:8080/"
        },
        "id": "xPMk-25vP8w3",
        "outputId": "8be6b0c3-e9b8-4d9e-fca9-88e1693a4ba6"
      },
      "execution_count": 9,
      "outputs": [
        {
          "output_type": "stream",
          "name": "stdout",
          "text": [
            "color                   11\n",
            "director_name           12\n",
            "duration                 0\n",
            "gross                    8\n",
            "genres                   1\n",
            "movie_title              0\n",
            "title_year               0\n",
            "language                 0\n",
            "country                  0\n",
            "budget                   4\n",
            "imdb_score               0\n",
            "actors                   0\n",
            "movie_facebook_likes     0\n",
            "dtype: int64\n"
          ]
        }
      ]
    },
    {
      "cell_type": "markdown",
      "source": [
        "Dari informasi di atas terdapat 11 null values pada color, 12 null values pada director_name, 8 null values pada gross, 1 null value pada genres, dan 4 null values pada budget. Perlu diperhatikan bahwa variabel-variabel tersebut memiliki tipe data yang berbeda, sehingga diperlukan metode yang berbeda pula untuk menangani missing value."
      ],
      "metadata": {
        "id": "N_BehjGRQo7E"
      }
    },
    {
      "cell_type": "code",
      "source": [
        "# Cek baris duplikat\n",
        "duplicate_rows = df[df.duplicated(keep=False)]\n",
        "print(duplicate_rows)\n",
        "print(\"Number of duplicate : \", df.duplicated().sum())"
      ],
      "metadata": {
        "colab": {
          "base_uri": "https://localhost:8080/"
        },
        "id": "QkNv02aKaNq4",
        "outputId": "255ce6a4-5165-4fdd-a748-bd08bcd5a04d"
      },
      "execution_count": 8,
      "outputs": [
        {
          "output_type": "stream",
          "name": "stdout",
          "text": [
            "    color      director_name  duration        gross  \\\n",
            "8   Color        Joss Whedon       173  623279547.0   \n",
            "9   Color        Joss Whedon       173  623279547.0   \n",
            "20  Color         Tom Hooper       158  148775460.0   \n",
            "21  Color         Tom Hooper       158  148775460.0   \n",
            "30  Color       Ridley Scott       150   65007045.0   \n",
            "31  Color       Ridley Scott       150   65007045.0   \n",
            "52  Color         Sam Mendes       143  304360277.0   \n",
            "53  Color         Sam Mendes       143  304360277.0   \n",
            "54  Color       Baz Luhrmann       143  144812796.0   \n",
            "55  Color       Baz Luhrmann       143  144812796.0   \n",
            "61  Color  Timur Bekmambetov       141          NaN   \n",
            "63  Color  Timur Bekmambetov       141          NaN   \n",
            "\n",
            "                       genres             movie_title  title_year language  \\\n",
            "8     Action|Adventure|Sci-Fi            The Avengers        2012  English   \n",
            "9     Action|Adventure|Sci-Fi            The Avengers        2012  English   \n",
            "20      Drama|Musical|Romance          Les Misérables        2012  English   \n",
            "21      Drama|Musical|Romance          Les Misérables        2012  English   \n",
            "30     Action|Adventure|Drama  Exodus: Gods and Kings        2014  English   \n",
            "31     Action|Adventure|Drama  Exodus: Gods and Kings        2014  English   \n",
            "52  Action|Adventure|Thriller                 Skyfall        2012  English   \n",
            "53  Action|Adventure|Thriller                 Skyfall        2012  English   \n",
            "54              Drama|Romance        The Great Gatsby        2013  English   \n",
            "55              Drama|Romance        The Great Gatsby        2013  English   \n",
            "61    Adventure|Drama|History                 Ben-Hur        2016  English   \n",
            "63    Adventure|Drama|History                 Ben-Hur        2016  English   \n",
            "\n",
            "      country       budget  imdb_score  \\\n",
            "8         USA  220000000.0         8.1   \n",
            "9         USA  220000000.0         8.1   \n",
            "20        USA   61000000.0         7.6   \n",
            "21        USA   61000000.0         7.6   \n",
            "30         UK  140000000.0         6.1   \n",
            "31         UK  140000000.0         6.1   \n",
            "52         UK  200000000.0         7.8   \n",
            "53         UK  200000000.0         7.8   \n",
            "54  Australia  105000000.0         7.3   \n",
            "55  Australia  105000000.0         7.3   \n",
            "61        USA  100000000.0         6.1   \n",
            "63        USA  100000000.0         6.1   \n",
            "\n",
            "                                               actors  movie_facebook_likes  \n",
            "8   Chris Hemsworth,Robert Downey Jr.,Scarlett Joh...                123000  \n",
            "9   Chris Hemsworth,Robert Downey Jr.,Scarlett Joh...                123000  \n",
            "20          Hugh Jackman,Eddie Redmayne,Anne Hathaway                144000  \n",
            "21          Hugh Jackman,Eddie Redmayne,Anne Hathaway                144000  \n",
            "30       Christian Bale,María Valverde,Ben Mendelsohn                 51000  \n",
            "31       Christian Bale,María Valverde,Ben Mendelsohn                 51000  \n",
            "52           Albert Finney,Helen McCrory,Rory Kinnear                 80000  \n",
            "53           Albert Finney,Helen McCrory,Rory Kinnear                 80000  \n",
            "54   Leonardo DiCaprio,Elizabeth Debicki,Steve Bisley                115000  \n",
            "55   Leonardo DiCaprio,Elizabeth Debicki,Steve Bisley                115000  \n",
            "61           Morgan Freeman,Ayelet Zurer,Moises Arias                     0  \n",
            "63           Morgan Freeman,Ayelet Zurer,Moises Arias                     0  \n",
            "Number of duplicate :  6\n"
          ]
        }
      ]
    },
    {
      "cell_type": "markdown",
      "source": [
        "Dari informasi di atas terdapat sekitar 2 baris data yang sama dalam 12 baris. Sehingga terdapat 6 baris yang merupakan duplikat. Pada bagian Data Cleaning, baris-baris duplikat tersebut akan dihapus dan hanya baris unik yang akan dipertahankan."
      ],
      "metadata": {
        "id": "D_-eRl0tQ8B8"
      }
    },
    {
      "cell_type": "markdown",
      "source": [
        "**DATA CLEANING**\n",
        "\n",
        "\n",
        "\n",
        "1.   Menghapus nilai null pada kolom gross dan budget karena keduanya merupakan kolom yang penting.\n",
        "2.   Menghapus data duplikat dan hanya menyisakan data yang unik.\n",
        "3. Mengisi nilai null pada kolom color dengan modus.\n",
        "4. Mengisi nilai null pada kolom director_name dengan keterangan \"Unknown\".\n",
        "5. Mengisi nilai null pada kolom genres dengan \"None\".\n",
        "6. Memperbaiki nilai negatif pada kolom imbd_score menggunakan fungsi absolute value.\n",
        "7. Memperbaiki data tidak valid pada kolom duration, misalnya durasi yang lebih dari 600 menit atau kurang dari 10 menit dengan cara menggantinya menggunakan nilai median.\n",
        "\n"
      ],
      "metadata": {
        "id": "gCpQHJMsbh8B"
      }
    },
    {
      "cell_type": "code",
      "source": [
        "# Menghapus baris yang memiliki null pada kolom gross dan budget\n",
        "df.dropna(subset=['gross', 'budget'], inplace=True)"
      ],
      "metadata": {
        "id": "68iWoUjDbBR7"
      },
      "execution_count": 11,
      "outputs": []
    },
    {
      "cell_type": "code",
      "source": [
        "# Menghapus duplikat dan menyisakan satu baris unik\n",
        "df.drop_duplicates(inplace=True)"
      ],
      "metadata": {
        "id": "vID4iYcKbpyI"
      },
      "execution_count": 10,
      "outputs": []
    },
    {
      "cell_type": "code",
      "source": [
        "# Mengisi null pada 'color' dengan modus\n",
        "df['color'].fillna(df['color'].mode()[0], inplace=True)"
      ],
      "metadata": {
        "colab": {
          "base_uri": "https://localhost:8080/"
        },
        "id": "TwY_JkZSbtVg",
        "outputId": "10208b28-ff3a-4116-ee79-f226abbd02b2"
      },
      "execution_count": null,
      "outputs": [
        {
          "output_type": "stream",
          "name": "stderr",
          "text": [
            "/tmp/ipython-input-424390213.py:2: FutureWarning: A value is trying to be set on a copy of a DataFrame or Series through chained assignment using an inplace method.\n",
            "The behavior will change in pandas 3.0. This inplace method will never work because the intermediate object on which we are setting values always behaves as a copy.\n",
            "\n",
            "For example, when doing 'df[col].method(value, inplace=True)', try using 'df.method({col: value}, inplace=True)' or df[col] = df[col].method(value) instead, to perform the operation inplace on the original object.\n",
            "\n",
            "\n",
            "  df['color'].fillna(df['color'].mode()[0], inplace=True)\n"
          ]
        }
      ]
    },
    {
      "cell_type": "code",
      "source": [
        "# Mengisi null pada 'director_name' dengan \"Unknown\"\n",
        "df['director_name'].fillna('Unknown', inplace=True)"
      ],
      "metadata": {
        "colab": {
          "base_uri": "https://localhost:8080/"
        },
        "id": "lzaZk_QhbxeT",
        "outputId": "e5e42a3c-4ea7-4c83-e004-1fed148deb2a"
      },
      "execution_count": 12,
      "outputs": [
        {
          "output_type": "stream",
          "name": "stderr",
          "text": [
            "/tmp/ipython-input-3005930882.py:2: FutureWarning: A value is trying to be set on a copy of a DataFrame or Series through chained assignment using an inplace method.\n",
            "The behavior will change in pandas 3.0. This inplace method will never work because the intermediate object on which we are setting values always behaves as a copy.\n",
            "\n",
            "For example, when doing 'df[col].method(value, inplace=True)', try using 'df.method({col: value}, inplace=True)' or df[col] = df[col].method(value) instead, to perform the operation inplace on the original object.\n",
            "\n",
            "\n",
            "  df['director_name'].fillna('Unknown', inplace=True)\n"
          ]
        }
      ]
    },
    {
      "cell_type": "code",
      "source": [
        "# Mengisi null pada 'genres' dengan 'None'\n",
        "df['genres'].fillna('None', inplace=True)"
      ],
      "metadata": {
        "colab": {
          "base_uri": "https://localhost:8080/"
        },
        "id": "3N8ukyWAb2ag",
        "outputId": "1766d14a-eaa6-49d8-c74a-d37c370249ca"
      },
      "execution_count": 14,
      "outputs": [
        {
          "output_type": "stream",
          "name": "stderr",
          "text": [
            "/tmp/ipython-input-1299628135.py:2: FutureWarning: A value is trying to be set on a copy of a DataFrame or Series through chained assignment using an inplace method.\n",
            "The behavior will change in pandas 3.0. This inplace method will never work because the intermediate object on which we are setting values always behaves as a copy.\n",
            "\n",
            "For example, when doing 'df[col].method(value, inplace=True)', try using 'df.method({col: value}, inplace=True)' or df[col] = df[col].method(value) instead, to perform the operation inplace on the original object.\n",
            "\n",
            "\n",
            "  df['genres'].fillna('None', inplace=True)\n"
          ]
        }
      ]
    },
    {
      "cell_type": "code",
      "source": [
        "# memperbaiki data tidak valid berupa nilai negatif pada kolom imdb_score dengan menggunakan fungsi nilai mutlak\n",
        "df.loc[~df['imdb_score'].between(0, 10), 'imdb_score'] = np.abs(df['imdb_score'])\n"
      ],
      "metadata": {
        "id": "gG88hMNYb6a_"
      },
      "execution_count": 13,
      "outputs": []
    },
    {
      "cell_type": "code",
      "source": [
        "# Memperbaiki data tidak valid pada kolom 'duration'\n",
        "# 1. Ubah nilai-nilai yang tidak valid menjadi NaN agar bisa diabaikan saat perhitungan.\n",
        "df.loc[df['duration'] <= 10, 'duration'] = np.nan\n",
        "df.loc[df['duration'] > 600, 'duration'] = np.nan\n",
        "\n",
        "# 2. Menghitung median dari kolom 'duration' dengan mengabaikan nilai NaN\n",
        "median_duration = df['duration'].median()\n",
        "print(f\"The median movie duration is: {median_duration} minutes\")\n",
        "\n",
        "# 3. Mengisi nilai NaN dengan median yang sudah dihitung\n",
        "df['duration'].fillna(median_duration, inplace=True)"
      ],
      "metadata": {
        "colab": {
          "base_uri": "https://localhost:8080/"
        },
        "id": "6m2pJfuXb9dP",
        "outputId": "196faa2e-f3ea-4036-e468-430b560c0d6a"
      },
      "execution_count": 15,
      "outputs": [
        {
          "output_type": "stream",
          "name": "stdout",
          "text": [
            "The median movie duration is: 144.0 minutes\n"
          ]
        },
        {
          "output_type": "stream",
          "name": "stderr",
          "text": [
            "/tmp/ipython-input-2351000880.py:11: FutureWarning: A value is trying to be set on a copy of a DataFrame or Series through chained assignment using an inplace method.\n",
            "The behavior will change in pandas 3.0. This inplace method will never work because the intermediate object on which we are setting values always behaves as a copy.\n",
            "\n",
            "For example, when doing 'df[col].method(value, inplace=True)', try using 'df.method({col: value}, inplace=True)' or df[col] = df[col].method(value) instead, to perform the operation inplace on the original object.\n",
            "\n",
            "\n",
            "  df['duration'].fillna(median_duration, inplace=True)\n"
          ]
        }
      ]
    },
    {
      "cell_type": "code",
      "source": [
        "# Menampilkan data setelah dilakukan data cleaning\n",
        "print(df.isnull().sum())\n"
      ],
      "metadata": {
        "colab": {
          "base_uri": "https://localhost:8080/"
        },
        "id": "nukwoAG_cDLs",
        "outputId": "2e320eca-9c9f-47c7-de05-658e9d617480"
      },
      "execution_count": 16,
      "outputs": [
        {
          "output_type": "stream",
          "name": "stdout",
          "text": [
            "color                   10\n",
            "director_name            0\n",
            "duration                 0\n",
            "gross                    0\n",
            "genres                   0\n",
            "movie_title              0\n",
            "title_year               0\n",
            "language                 0\n",
            "country                  0\n",
            "budget                   0\n",
            "imdb_score               0\n",
            "actors                   0\n",
            "movie_facebook_likes     0\n",
            "dtype: int64\n"
          ]
        }
      ]
    },
    {
      "cell_type": "code",
      "source": [
        "print(df)"
      ],
      "metadata": {
        "colab": {
          "base_uri": "https://localhost:8080/"
        },
        "id": "xsVm5SkncFAV",
        "outputId": "a6bda5d2-0211-4ba9-baa5-cd8d8c1f1f21"
      },
      "execution_count": 17,
      "outputs": [
        {
          "output_type": "stream",
          "name": "stdout",
          "text": [
            "     color      director_name  duration        gross  \\\n",
            "0    Color    Martin Scorsese     240.0  116866727.0   \n",
            "1    Color        Shane Black     195.0  408992272.0   \n",
            "2   color   Quentin Tarantino     187.0   54116191.0   \n",
            "3    Color   Kenneth Lonergan     186.0      46495.0   \n",
            "4    Color      Peter Jackson     186.0  258355354.0   \n",
            "..     ...                ...       ...          ...   \n",
            "93   Color        Tony Gilroy     135.0  113165635.0   \n",
            "94   Color      Steve McQueen     134.0   56667870.0   \n",
            "96   Color    Paul Greengrass     134.0  107100855.0   \n",
            "97   Color         David Ayer     134.0   85707116.0   \n",
            "98   Color     Clint Eastwood     144.0   47034272.0   \n",
            "\n",
            "                                  genres                          movie_title  \\\n",
            "0           Biography|Comedy|Crime|Drama              The Wolf of Wall Street   \n",
            "1                Action|Adventure|Sci-Fi                           Iron Man 3   \n",
            "2   Crime|Drama|Mystery|Thriller|Western                    The Hateful Eight   \n",
            "3                                  Drama                             Margaret   \n",
            "4                      Adventure|Fantasy  The Hobbit: The Desolation of Smaug   \n",
            "..                                   ...                                  ...   \n",
            "93             Action|Adventure|Thriller                    The Bourne Legacy   \n",
            "94               Biography|Drama|History                     12 Years a Slave   \n",
            "96              Biography|Drama|Thriller                     Captain Phillips   \n",
            "97                      Action|Drama|War                                 Fury   \n",
            "98         Biography|Drama|Music|Musical                          Jersey Boys   \n",
            "\n",
            "    title_year language country       budget  imdb_score  \\\n",
            "0         2013  English     USA  100000000.0         8.2   \n",
            "1         2013  English     USA  200000000.0         7.2   \n",
            "2         2015  English     USA   44000000.0         7.9   \n",
            "3         2011  English     usa   14000000.0         6.5   \n",
            "4         2013  English     USA  225000000.0         7.9   \n",
            "..         ...      ...     ...          ...         ...   \n",
            "93        2012  English     USA  125000000.0         6.7   \n",
            "94        2013  English     USA   20000000.0         8.1   \n",
            "96        2013  English     USA   55000000.0         7.9   \n",
            "97        2014  English     USA   68000000.0         7.6   \n",
            "98        2014  English     USA   40000000.0         6.9   \n",
            "\n",
            "                                               actors  movie_facebook_likes  \n",
            "0   Leonardo DiCaprio,Matthew McConaughey,Jon Favreau                138000  \n",
            "1           Robert Downey Jr.,Jon Favreau,Don Cheadle                 95000  \n",
            "2           Craig Stark,Jennifer Jason Leigh,Zoë Bell                114000  \n",
            "3         Matt Damon,Kieran Culkin,John Gallagher Jr.                     0  \n",
            "4               Aidan Turner,Adam Brown,James Nesbitt                 83000  \n",
            "..                                                ...                   ...  \n",
            "93              Jeremy Renner,Scott Glenn,Stacy Keach                 31000  \n",
            "94       Quvenzhané Wallis,Scoot McNairy,Taran Killam                 83000  \n",
            "96             Tom Hanks,Chris Mulkey,Michael Chernus                 65000  \n",
            "97                 Brad Pitt,Logan Lerman,Jim Parrack                 82000  \n",
            "98      Johnny Cannizzaro,Steve Schirripa,Scott Vance                 16000  \n",
            "\n",
            "[84 rows x 13 columns]\n"
          ]
        }
      ]
    },
    {
      "cell_type": "markdown",
      "source": [
        "**DATA TRANSFORMATION**\n",
        "\n",
        "Pada bagian ini akan dilakukan proses data transformation dengan langkah-langkah sebagai berikut:\n",
        "1. Standarisasi kolom color dan country\n",
        "2. Konversi beberapa kolom menjadi tipe data numerik\n",
        "3. Splitting pada kolom genres\n"
      ],
      "metadata": {
        "id": "zHwmbOmPcLBx"
      }
    },
    {
      "cell_type": "code",
      "source": [
        "# Membersihkan kolom 'color' dengan menstandarisasi semua nilai menjadi huruf kecil\n",
        "df['color'] = df['color'].str.lower()\n",
        "\n",
        "# Membersihkan kolom country dengan menstandarisasi kapitalisasi huruf\n",
        "df['country'] = df['country'].str.upper()\n"
      ],
      "metadata": {
        "id": "OE93RogpcNMV"
      },
      "execution_count": 18,
      "outputs": []
    },
    {
      "cell_type": "code",
      "source": [
        "# Mengubah kolom menjadi numerik\n",
        "numeric_cols = ['duration', 'gross', 'title_year', 'budget', 'imdb_score']\n",
        "for col in numeric_cols:\n",
        "    df[col] = pd.to_numeric(df[col], errors='coerce')"
      ],
      "metadata": {
        "id": "jODI5VpIcQtV"
      },
      "execution_count": 19,
      "outputs": []
    },
    {
      "cell_type": "code",
      "source": [
        "# Splitting kolom 'genres'\n",
        "\n",
        "# 1. Split kolom 'genres' yang dipisahkan oleh tanda '|' menjadi beberapa kolom di DataFrame baru\n",
        "genre_split_df = df['genres'].str.split('|', expand=True)\n",
        "\n",
        "# 2. Membuat nama kolom baru secara berurutan seperti 'genre_1', 'genre_2', dst.\n",
        "new_column_names = [f'genre_{i+1}' for i in range(genre_split_df.shape[1])]\n",
        "genre_split_df.columns = new_column_names\n",
        "\n",
        "# 3. Gabungkan kolom-kolom genre yang baru dibuat dengan DataFrame asli\n",
        "df_with_genres = pd.concat([df, genre_split_df], axis=1)\n",
        "df_with_genres.fillna('None', inplace=True)\n",
        "\n",
        "# Menampilkan hasil\n",
        "print(df_with_genres.head())"
      ],
      "metadata": {
        "colab": {
          "base_uri": "https://localhost:8080/"
        },
        "id": "7AZZMmNfcTm_",
        "outputId": "98f46c4d-ceac-47a9-a6ed-58f0e3eb2453"
      },
      "execution_count": 20,
      "outputs": [
        {
          "output_type": "stream",
          "name": "stdout",
          "text": [
            "    color      director_name  duration        gross  \\\n",
            "0   color    Martin Scorsese     240.0  116866727.0   \n",
            "1   color        Shane Black     195.0  408992272.0   \n",
            "2  color   Quentin Tarantino     187.0   54116191.0   \n",
            "3   color   Kenneth Lonergan     186.0      46495.0   \n",
            "4   color      Peter Jackson     186.0  258355354.0   \n",
            "\n",
            "                                 genres                          movie_title  \\\n",
            "0          Biography|Comedy|Crime|Drama              The Wolf of Wall Street   \n",
            "1               Action|Adventure|Sci-Fi                           Iron Man 3   \n",
            "2  Crime|Drama|Mystery|Thriller|Western                    The Hateful Eight   \n",
            "3                                 Drama                             Margaret   \n",
            "4                     Adventure|Fantasy  The Hobbit: The Desolation of Smaug   \n",
            "\n",
            "   title_year language country       budget  imdb_score  \\\n",
            "0        2013  English     USA  100000000.0         8.2   \n",
            "1        2013  English     USA  200000000.0         7.2   \n",
            "2        2015  English     USA   44000000.0         7.9   \n",
            "3        2011  English     USA   14000000.0         6.5   \n",
            "4        2013  English     USA  225000000.0         7.9   \n",
            "\n",
            "                                              actors  movie_facebook_likes  \\\n",
            "0  Leonardo DiCaprio,Matthew McConaughey,Jon Favreau                138000   \n",
            "1          Robert Downey Jr.,Jon Favreau,Don Cheadle                 95000   \n",
            "2          Craig Stark,Jennifer Jason Leigh,Zoë Bell                114000   \n",
            "3        Matt Damon,Kieran Culkin,John Gallagher Jr.                     0   \n",
            "4              Aidan Turner,Adam Brown,James Nesbitt                 83000   \n",
            "\n",
            "     genre_1    genre_2  genre_3   genre_4  genre_5  \n",
            "0  Biography     Comedy    Crime     Drama     None  \n",
            "1     Action  Adventure   Sci-Fi      None     None  \n",
            "2      Crime      Drama  Mystery  Thriller  Western  \n",
            "3      Drama       None     None      None     None  \n",
            "4  Adventure    Fantasy     None      None     None  \n"
          ]
        }
      ]
    },
    {
      "cell_type": "code",
      "source": [
        "# Menyimpan hasil\n",
        "df_with_genres.to_csv('/content/movie_dataset_cleaned.csv', index=False)"
      ],
      "metadata": {
        "id": "q6AaAWf1cZan"
      },
      "execution_count": 21,
      "outputs": []
    }
  ]
}